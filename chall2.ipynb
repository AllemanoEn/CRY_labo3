{
 "cells": [
  {
   "cell_type": "markdown",
   "metadata": {},
   "source": [
    "#### Declarations"
   ]
  },
  {
   "cell_type": "code",
   "execution_count": 1,
   "metadata": {},
   "outputs": [],
   "source": [
    "import base64\n",
    "from Crypto.Util.strxor import strxor\n",
    "from hashlib import sha256\n",
    "\n",
    "def point_to_bytes(pt):\n",
    "    \"\"\"This function hashes a point on an elliptic curve for Ex 2\"\"\"\n",
    "    return sha256(str(pt[0]).encode()).digest()\n",
    "\n",
    "n =0xffffffff00000000ffffffffffffffffbce6faada7179e84f3b9cac2fc632551\n",
    "p = 0xffffffff00000001000000000000000000000000ffffffffffffffffffffffff\n",
    "K = GF(p)\n",
    "coef_a = K(0xffffffff00000001000000000000000000000000fffffffffffffffffffffffc)\n",
    "coef_b = K(0x5ac635d8aa3a93e7b3ebbd55769886bc651d06b0cc53b0f63bce3c3e27d2604b)\n",
    "E = EllipticCurve(K, (coef_a, coef_b))\n",
    "G = E(0x6b17d1f2e12c4247f8bce6e563a440f277037d812deb33a0f4a13945d898c296, 0x4fe342e2fe1a7f9b8ee7eb4a7c0f9e162bce33576b315ececbb6406837bf51f5)\n",
    "E.set_order(n * 0x1)\n",
    "\n",
    "# Private key\n",
    "a = randint(1,n-1)\n",
    "\n",
    "# Public key\n",
    "A = a*G\n",
    "\n",
    "# Rand k\n",
    "k = randint(1,n-1)\n",
    "\n",
    "# Secret message\n",
    "secret_message = \"This is a secret 32 bytes msg !!\"\n",
    "secret_message = secret_message.encode()"
   ]
  },
  {
   "cell_type": "code",
   "execution_count": 2,
   "metadata": {},
   "outputs": [],
   "source": [
    "def encryption(k,G,A,m):\n",
    "    return (k*G), strxor(m,point_to_bytes(k*A))\n",
    "\n",
    "def decryption(c1,a,c2):\n",
    "    return strxor(c2,point_to_bytes(c1*a))  "
   ]
  },
  {
   "cell_type": "markdown",
   "metadata": {},
   "source": [
    "#### Test en/decryption functions"
   ]
  },
  {
   "cell_type": "code",
   "execution_count": 3,
   "metadata": {},
   "outputs": [
    {
     "name": "stdout",
     "output_type": "stream",
     "text": [
      "True\n",
      "b'This is a secret 32 bytes msg !!'\n"
     ]
    }
   ],
   "source": [
    "c1,c2 = encryption(k,G,A,secret_message)\n",
    "m = decryption(c1,a,c2)\n",
    "print(secret_message == m)\n",
    "print(m)"
   ]
  },
  {
   "cell_type": "markdown",
   "metadata": {},
   "source": [
    "#### Challenge"
   ]
  },
  {
   "cell_type": "code",
   "execution_count": null,
   "metadata": {},
   "outputs": [
    {
     "name": "stdout",
     "output_type": "stream",
     "text": [
      "797\n",
      "b'This message is secure: fiercest'\n"
     ]
    }
   ],
   "source": [
    "A = (32860965185035352636548293238411580626591012938367659117806487391877326305644, 415453299865429302663262005654430339224572282195312118090206629670060452171)\n",
    "u2 = (77034529068415635642720491724181496043784404773604300820436229733834458312250, 90443566585874251849106970473728851519090556162911060363311223397713558024192)\n",
    "v2 = \"zSCHPaI0B0E+iNhWnSREq+qd/zX3ZdEwPExkGyLtHW4=\"\n",
    "\n",
    "A = E(A)\n",
    "u2 = E(u2)\n",
    "\n",
    "v2_bytes = base64.b64decode(v2)\n",
    "\n",
    "for i in range(n-1):\n",
    "    if i*G == u2:\n",
    "        print(i)\n",
    "        print(strxor(v2_bytes,point_to_bytes(i*A)))\n",
    "\n"
   ]
  }
 ],
 "metadata": {
  "kernelspec": {
   "display_name": "SageMath 9.3",
   "language": "sage",
   "name": "sagemath"
  },
  "language_info": {
   "codemirror_mode": {
    "name": "ipython",
    "version": 3
   },
   "file_extension": ".py",
   "mimetype": "text/x-python",
   "name": "python",
   "nbconvert_exporter": "python",
   "pygments_lexer": "ipython3",
   "version": "3.7.10"
  }
 },
 "nbformat": 4,
 "nbformat_minor": 1
}
